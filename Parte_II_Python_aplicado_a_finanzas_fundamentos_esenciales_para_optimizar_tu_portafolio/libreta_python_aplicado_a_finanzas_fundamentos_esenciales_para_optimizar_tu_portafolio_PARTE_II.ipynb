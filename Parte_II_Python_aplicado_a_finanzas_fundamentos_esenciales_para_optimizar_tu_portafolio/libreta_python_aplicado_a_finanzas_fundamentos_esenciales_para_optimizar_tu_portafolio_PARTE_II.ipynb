{
  "nbformat": 4,
  "nbformat_minor": 0,
  "metadata": {
    "colab": {
      "provenance": []
    },
    "kernelspec": {
      "name": "python3",
      "display_name": "Python 3"
    },
    "language_info": {
      "name": "python"
    }
  },
  "cells": [
    {
      "cell_type": "markdown",
      "metadata": {
        "id": "eL5hYzN1_VkM"
      },
      "source": [
        "# **💼Python aplicado a finanzas: fundamentos esenciales para optimizar tu portafolio PARTE II🐍**"
      ]
    },
    {
      "cell_type": "markdown",
      "source": [
        "##### Autor: Jose Diego Cazares Minjares"
      ],
      "metadata": {
        "id": "u1-74YA5f8dB"
      }
    },
    {
      "cell_type": "markdown",
      "source": [
        "##### Contacto: [LinkedIn](https://www.linkedin.com/in/cazaresminjares/) Sitio Web: [betafinanciera.com](https://betafinanciera.com/)"
      ],
      "metadata": {
        "id": "Go2YlQJOf9Re"
      }
    },
    {
      "cell_type": "markdown",
      "source": [
        "### 1️⃣ Del dato al trade: descarga, analiza, optimiza y traduce pesos a órdenes reales con pypfopt.\n",
        "\n",
        "\n",
        "\n",
        "### Objetivos breves:\n",
        "\n",
        "### •\tConstruir y comparar 3 portafolios para NVDA, JNJ, AAPL, JPM (últimos 5 años).\n",
        "\n",
        "### •\tOptimización por Sortino ratio (máx.).\n",
        "\n",
        "### •\tOptimización por CVaR (minimizar CVaR) y luego max Sharpe sobre esos retornos.\n",
        "\n",
        "### •\tUna cartera “libre” (por Sharpe) para comparación.\n",
        "\n",
        "### •\tTraducir pesos a órdenes para inversión total de $10,000 (DiscreteAllocation).\n",
        "\n",
        "### •\tFinalmente añadir restricciones del mundo real (límites por activo y sector) y comparar.\n",
        "\n"
      ],
      "metadata": {
        "id": "RPcNvSzolht5"
      }
    },
    {
      "cell_type": "markdown",
      "source": [
        "### 2️⃣ Preparar entorno y descargar datos.\n",
        "\n",
        "### Descargar precios ajustados de los últimos 5 años para NVDA, JNJ, AAPL, JPM. Limpiar y mostrar primera vista."
      ],
      "metadata": {
        "id": "1gLSw_D_nulB"
      }
    },
    {
      "cell_type": "code",
      "source": [
        "# Importar las paqueterias necesarias\n",
        "import pandas as pd\n",
        "import numpy as np\n",
        "import matplotlib.pyplot as plt\n",
        "import seaborn as sns\n",
        "import yfinance as yf\n",
        "\n",
        "from pypfopt import expected_returns, risk_models, EfficientFrontier, plotting\n",
        "from pypfopt.discrete_allocation import DiscreteAllocation, get_latest_prices\n",
        "\n",
        "# Para optimizaciones personalizadas\n",
        "from scipy.optimize import minimize"
      ],
      "metadata": {
        "id": "ZFK1wKjaoAiZ"
      },
      "execution_count": 49,
      "outputs": []
    },
    {
      "cell_type": "code",
      "source": [
        "# Definir Activos y Periodos\n",
        "tickers = [\"NVDA\", \"JNJ\", \"AAPL\", \"JPM\"]\n",
        "start_date = \"2020-10-01\"\n",
        "end_date = None  # hasta hoy\n",
        "\n",
        "# Descarga de precios ajustados.\n",
        "prices = yf.download(tickers, start=start_date, end=end_date, auto_adjust=True)[\"Close\"]\n",
        "prices = prices.dropna(how=\"all\")\n",
        "print(\"Precios (últimas filas):\")\n",
        "print(prices.tail())"
      ],
      "metadata": {
        "colab": {
          "base_uri": "https://localhost:8080/"
        },
        "id": "sgKJNJ8xlfdf",
        "outputId": "56da26ce-2dfb-4d0a-e00e-e26b10382454"
      },
      "execution_count": 50,
      "outputs": [
        {
          "output_type": "stream",
          "name": "stderr",
          "text": [
            "[*********************100%***********************]  4 of 4 completed"
          ]
        },
        {
          "output_type": "stream",
          "name": "stdout",
          "text": [
            "Precios (últimas filas):\n",
            "Ticker            AAPL         JNJ         JPM        NVDA\n",
            "Date                                                      \n",
            "2025-10-17  252.289993  193.220001  297.559998  183.220001\n",
            "2025-10-20  262.239990  193.720001  302.359985  182.639999\n",
            "2025-10-21  262.769989  191.880005  297.089996  181.160004\n",
            "2025-10-22  258.450012  192.940002  294.109985  180.279999\n",
            "2025-10-23  259.860596  192.220001  294.894989  181.774994\n"
          ]
        },
        {
          "output_type": "stream",
          "name": "stderr",
          "text": [
            "\n"
          ]
        }
      ]
    },
    {
      "cell_type": "markdown",
      "source": [
        "### 3️⃣ Optimizar por Sortino ratio.\n",
        "\n",
        "### Sortino ratio mide retorno ajustado por la volatilidad negativa (solo considera las desviaciones por debajo de un objetivo), útil cuando te preocupan pérdidas más que variabilidad total.\n",
        "\n",
        "### Fórmula (Sortino):\n",
        "<br/>\n",
        "\n",
        "## $$ \\frac{\\mathbb{E}[R_p] - R_f}{\\sigma_d}\n",
        " $$\n",
        "<br/>\n",
        "\n",
        "### S > 1: excelente | El portafolio genera rendimientos significativamente superiores al riesgo de pérdidas. Ideal para estrategias conservadoras o de preservación de capital.\n",
        "\n",
        "### 0.5 < S ≤ 1: bueno | El rendimiento ajustado por riesgo negativo es aceptable. El portafolio compensa razonablemente las caídas.\n",
        "\n",
        "### 0 < S ≤ 0.5: modesto | El rendimiento apenas supera el riesgo de pérdidas. Puede requerir ajustes en la selección de activos o en la estrategia de asignación.\n",
        "\n",
        "### S ≤ 0: bajo o negativo | El portafolio no compensa el riesgo de pérdidas. Indica una estrategia ineficiente o mal calibrada frente a la volatilidad negativa.\n"
      ],
      "metadata": {
        "id": "2SgRlIxioxrV"
      }
    },
    {
      "cell_type": "code",
      "source": [
        "# Datos para optimización numérica\n",
        "daily_returns = prices.pct_change().dropna()  # diarios\n",
        "rf_annual = 0.03997\n",
        "rf_daily = (1 + rf_annual)**(1/252) - 1\n",
        "\n",
        "# Función auxiliar para calcular métricas de rendimiento de la cartera\n",
        "def portfolio_performance(weights, daily_returns, rf_daily):\n",
        "    p_returns = portfolio_daily_returns(weights, daily_returns)\n",
        "    annual_return = (1 + p_returns.mean())**252 - 1\n",
        "    annual_volatility = p_returns.std() * np.sqrt(252)\n",
        "    sortino = -neg_sortino(weights, daily_returns, rf_daily)\n",
        "    return annual_return, annual_volatility, sortino\n",
        "\n",
        "# Funciones auxiliares\n",
        "def portfolio_return(weights, mean_returns):\n",
        "    return np.dot(weights, mean_returns)\n",
        "\n",
        "def portfolio_daily_returns(weights, daily_returns):\n",
        "    # devuelve serie diaria de retornos del portafolio\n",
        "    weights_series = pd.Series(weights, index=daily_returns.columns)\n",
        "    return daily_returns.dot(weights_series)\n",
        "\n",
        "def downside_deviation(daily_ret, target=0):\n",
        "    diff = np.minimum(daily_ret - target, 0)\n",
        "    return np.sqrt(np.mean(diff**2))\n",
        "\n",
        "def neg_sortino(weights, daily_returns, rf_daily):\n",
        "    p_returns = portfolio_daily_returns(weights, daily_returns)\n",
        "    mean_excess = p_returns.mean() - rf_daily\n",
        "    dd = downside_deviation(p_returns, target=rf_daily)\n",
        "    # evitar divide by zero\n",
        "    if dd == 0:\n",
        "        return 1e6\n",
        "    sortino = mean_excess / dd\n",
        "    return -sortino  # queremos maximizar sortino -> minimizar negativo\n",
        "\n",
        "# Condiciones iniciales\n",
        "n = len(tickers)\n",
        "x0 = np.repeat(1/n, n)\n",
        "bounds = tuple((0, 1) for _ in range(n))\n",
        "constraints = ({'type': 'eq', 'fun': lambda w: np.sum(w) - 1})\n",
        "\n",
        "# Optimización\n",
        "res = minimize(neg_sortino, x0, args=(daily_returns, rf_daily),\n",
        "               method='SLSQP', bounds=bounds, constraints=constraints)\n",
        "\n",
        "w_sortino = res.x.round(6)\n",
        "w_sortino_dict = dict(zip(tickers, w_sortino))\n",
        "\n",
        "# Imprimir los pesos con formato\n",
        "print(f\"Pesos (max Sortino con Rf={rf_annual*100:.3f}%):\")\n",
        "for ticker, weight in w_sortino_dict.items():\n",
        "    print(f\"  {ticker}: {weight:.2%}\")\n",
        "\n",
        "# Imprimir las métricas del portafolio óptimo con formato\n",
        "print(\"\\nMétricas del Portafolio Óptimo:\")\n",
        "ret_ms, vol_ms, sortino_ms = portfolio_performance(w_sortino_dict, daily_returns, rf_daily)\n",
        "\n",
        "print(f\"Expected annual return: {ret_ms:.1%}\")\n",
        "print(f\"Annual volatility:      {vol_ms:.1%}\")\n",
        "print(f\"Sortino Ratio:          {sortino_ms:.2f}\")"
      ],
      "metadata": {
        "colab": {
          "base_uri": "https://localhost:8080/"
        },
        "id": "RtRIVj1Wp3ZU",
        "outputId": "cc24eb74-b9d9-41a4-f5ed-0d21ea9a81a2"
      },
      "execution_count": 51,
      "outputs": [
        {
          "output_type": "stream",
          "name": "stdout",
          "text": [
            "Pesos (max Sortino con Rf=3.997%):\n",
            "  NVDA: 0.00%\n",
            "  JNJ: 24.47%\n",
            "  AAPL: 39.99%\n",
            "  JPM: 35.54%\n",
            "\n",
            "Métricas del Portafolio Óptimo:\n",
            "Expected annual return: 22.7%\n",
            "Annual volatility:      18.1%\n",
            "Sortino Ratio:          0.09\n"
          ]
        }
      ]
    },
    {
      "cell_type": "markdown",
      "source": [
        "### 4️⃣ Convertir cartera Sortino en plan de compra para $10,000\n",
        "\n",
        "### Transformar pesos continuos a órdenes reales con presupuesto $10,000"
      ],
      "metadata": {
        "id": "Sh_-i0NmCH8A"
      }
    },
    {
      "cell_type": "code",
      "source": [
        "latest_prices = get_latest_prices(prices)\n",
        "total_value = 10000\n",
        "\n",
        "da_sortino = DiscreteAllocation(w_sortino_dict, latest_prices, total_portfolio_value=total_value)\n",
        "alloc_sortino, leftover_sortino = da_sortino.lp_portfolio()\n",
        "print(\"Plan de compra (Sortino) para $10,000:\")\n",
        "print(alloc_sortino)\n",
        "print(\"Dinero sobrante: ${:.2f}\".format(leftover_sortino))"
      ],
      "metadata": {
        "colab": {
          "base_uri": "https://localhost:8080/"
        },
        "id": "9BDhaD9Z7-ci",
        "outputId": "d3de5225-84b6-4ad9-f511-36eb0165267b"
      },
      "execution_count": 52,
      "outputs": [
        {
          "output_type": "stream",
          "name": "stdout",
          "text": [
            "Plan de compra (Sortino) para $10,000:\n",
            "{'JNJ': 13, 'AAPL': 13, 'JPM': 20}\n",
            "Dinero sobrante: $32.01\n"
          ]
        }
      ]
    },
    {
      "cell_type": "markdown",
      "source": [
        "Mostramos número de acciones por ticker y cuánto dinero queda sin invertir."
      ],
      "metadata": {
        "id": "AxjD1lUR_oFb"
      }
    },
    {
      "cell_type": "markdown",
      "source": [
        "### 5️⃣ Optimización por CVaR.\n",
        "\n",
        "### CVaR (Conditional Value at Risk) o Expected Shortfall mide la pérdida media en los peores 𝛼% escenarios. Minimizar CVaR busca proteger contra pérdidas extremas.\n",
        "\n",
        "#### Estimar CVaR vía simulación histórica/bootstrap del vector de retornos diarios. Luego minimizar CVaR(α) usando scipy.optimize.minimize sujeto a restricciones (long-only, sum=1). Finalmente, con esos retornos optimizados, buscamos la cartera con máx Sharpe basada en los retornos esperados resultantes (o directamente optimizamos Sharpe sobre mu,S if desired). Aquí haremos: 1) minimizar CVaR → pesos_cvar; 2) con esos pesos reestimamos mu (o usamos mu) y luego encontramos max Sharpe cartera condicionada? Para simplicidad: optimizamos CVaR directo y luego reportamos rendimiento/Sharpe de esa cartera; y además ejecutamos una optimización de max Sharpe usando EfficientFrontier con mu,S para comparar."
      ],
      "metadata": {
        "id": "iQFTu2HrqyvJ"
      }
    },
    {
      "cell_type": "code",
      "source": [
        "# Parámetros CVaR\n",
        "alpha = 0.05  # 5% tail\n",
        "n_sims = 5000  # número de simulaciones para evaluar CVaR (histórico bootstrap)\n",
        "\n",
        "# Simulación \"bootstrap\" de retornos diarios (mu, cov) asume normal approx:\n",
        "mu_daily = daily_returns.mean()\n",
        "cov_daily = daily_returns.cov()\n",
        "\n",
        "rng = np.random.default_rng(42)\n",
        "simulated = rng.multivariate_normal(mu_daily.values, cov_daily.values, size=n_sims)\n",
        "\n",
        "def portfolio_CVaR(weights, sims, alpha=0.05):\n",
        "    # sims: array (n_sims x n_assets) of simulated daily returns\n",
        "    p_rets = sims.dot(weights)\n",
        "    p_losses = -p_rets  # pérdidas positivas cuando retorno negativo\n",
        "    var = np.quantile(p_losses, 1-alpha)\n",
        "    cvar = p_losses[p_losses >= var].mean()\n",
        "    return cvar\n",
        "\n",
        "def objective_cvar(weights, sims, alpha=0.05):\n",
        "    return portfolio_CVaR(weights, sims, alpha)\n",
        "\n",
        "# Minimizar CVaR (long-only)\n",
        "res_cvar = minimize(objective_cvar, x0, args=(simulated, alpha),\n",
        "                    method='SLSQP', bounds=bounds, constraints=constraints)\n",
        "w_cvar = res_cvar.x.round(6)\n",
        "w_cvar_dict = dict(zip(tickers, w_cvar))\n",
        "\n",
        "print(\"Pesos (min CVaR):\")\n",
        "for ticker, weight in w_cvar_dict.items():\n",
        "    print(f\"  {ticker}: {weight:.2%}\")\n",
        "\n",
        "# Evaluar performance teórica del w_cvar\n",
        "p_daily_cvar = daily_returns.dot(w_cvar)\n",
        "ann_ret_cvar = (1 + p_daily_cvar.mean())**252 - 1\n",
        "ann_vol_cvar = p_daily_cvar.std() * np.sqrt(252)\n",
        "sharpe_cvar = (ann_ret_cvar - rf_annual) / ann_vol_cvar\n",
        "\n",
        "print(\"\\nMétricas del Portafolio Óptimo:\")\n",
        "print(f\"Expected annual return: {ann_ret_cvar:.1%}\")\n",
        "print(f\"Annual volatility:      {ann_vol_cvar:.1%}\")\n",
        "print(f\"Sharpe Ratio:           {sharpe_cvar:.4f}\")"
      ],
      "metadata": {
        "colab": {
          "base_uri": "https://localhost:8080/"
        },
        "id": "S11TVtbLrazT",
        "outputId": "5692b8a0-47a7-4ce4-b122-2b828d547dae"
      },
      "execution_count": 53,
      "outputs": [
        {
          "output_type": "stream",
          "name": "stdout",
          "text": [
            "Pesos (min CVaR):\n",
            "  NVDA: 8.78%\n",
            "  JNJ: 67.20%\n",
            "  AAPL: 18.20%\n",
            "  JPM: 5.82%\n",
            "\n",
            "Métricas del Portafolio Óptimo:\n",
            "Expected annual return: 18.6%\n",
            "Annual volatility:      14.6%\n",
            "Sharpe Ratio:           0.9981\n"
          ]
        }
      ]
    },
    {
      "cell_type": "markdown",
      "source": [
        "Interpretación: w_cvar prioriza la reducción de pérdidas en cola; puede sacrificar retorno esperado."
      ],
      "metadata": {
        "id": "9BHuqX8UsZNB"
      }
    },
    {
      "cell_type": "markdown",
      "source": [
        "### 6️⃣ Convertir cartera CVaR en plan de compra para $10,000\n",
        "\n",
        "### Transformar pesos continuos a órdenes reales con presupuesto $10,000"
      ],
      "metadata": {
        "id": "h5m3pgyODiGr"
      }
    },
    {
      "cell_type": "code",
      "source": [
        "da_cvar = DiscreteAllocation(w_cvar_dict, latest_prices, total_portfolio_value=total_value)\n",
        "alloc_cvar, leftover_cvar = da_cvar.lp_portfolio()\n",
        "print(\"Plan compra (CVaR) para $10,000:\")\n",
        "print(alloc_cvar)\n",
        "print(\"Dinero sobrante: ${:.2f}\".format(leftover_cvar))"
      ],
      "metadata": {
        "colab": {
          "base_uri": "https://localhost:8080/"
        },
        "id": "u9dr8R75BbN6",
        "outputId": "1e13a1ac-12b1-45a0-b738-b55068bf03bf"
      },
      "execution_count": 54,
      "outputs": [
        {
          "output_type": "stream",
          "name": "stdout",
          "text": [
            "Plan compra (CVaR) para $10,000:\n",
            "{'NVDA': 3, 'JNJ': 35, 'AAPL': 6, 'JPM': 3}\n",
            "Dinero sobrante: $178.02\n"
          ]
        }
      ]
    },
    {
      "cell_type": "markdown",
      "source": [
        "### 7️⃣ Cartera “por Sharpe” (baseline) y su plan de compra\n",
        "\n",
        "### Para comparar, obtendremos la cartera clásica de máximo Sharpe con EfficientFrontier (media histórica + cov)."
      ],
      "metadata": {
        "id": "e_cbal3hD341"
      }
    },
    {
      "cell_type": "code",
      "source": [
        "# Calcular los rendimientos esperados y la matriz de covarianza\n",
        "mu = expected_returns.mean_historical_return(prices)\n",
        "S = risk_models.sample_cov(prices)\n",
        "\n",
        "ef = EfficientFrontier(mu, S)\n",
        "ef.max_sharpe()\n",
        "w_sharpe = ef.clean_weights()\n",
        "print(\"Pesos (max Sharpe):\")\n",
        "for ticker, weight in w_sharpe.items():\n",
        "    print(f\"  {ticker}: {weight:.2%}\")\n",
        "\n",
        "# Discrete allocation\n",
        "latest_prices = get_latest_prices(prices)\n",
        "total_value = 10000\n",
        "\n",
        "da_sharpe = DiscreteAllocation(w_sharpe, latest_prices, total_portfolio_value=total_value)\n",
        "alloc_sharpe, leftover_sharpe = da_sharpe.lp_portfolio()\n",
        "print(\"\\nPlan compra (Sharpe) para $10,000:\")\n",
        "print(alloc_sharpe)\n",
        "print(\"Dinero sobrante: ${:.2f}\".format(leftover_sharpe))\n",
        "\n",
        "ret_s, vol_s, sharpe_s = ef.portfolio_performance(verbose=False)\n",
        "\n",
        "print(\"\\nMétricas del Portafolio Óptimo:\")\n",
        "print(f\"Expected annual return: {ret_s:.1%}\")\n",
        "print(f\"Annual volatility:      {vol_s:.1%}\")\n",
        "print(f\"Sharpe Ratio:           {sharpe_s:.2f}\")"
      ],
      "metadata": {
        "colab": {
          "base_uri": "https://localhost:8080/"
        },
        "id": "1VWS9rEWEZZr",
        "outputId": "880a52d6-a065-45a5-ec81-f9235c05e1cc"
      },
      "execution_count": 55,
      "outputs": [
        {
          "output_type": "stream",
          "name": "stdout",
          "text": [
            "Pesos (max Sharpe):\n",
            "  AAPL: 0.00%\n",
            "  JNJ: 34.96%\n",
            "  JPM: 36.36%\n",
            "  NVDA: 28.68%\n",
            "\n",
            "Plan compra (Sharpe) para $10,000:\n",
            "{'JNJ': 18, 'JPM': 12, 'NVDA': 16}\n",
            "Dinero sobrante: $92.90\n",
            "\n",
            "Métricas del Portafolio Óptimo:\n",
            "Expected annual return: 32.5%\n",
            "Annual volatility:      20.7%\n",
            "Sharpe Ratio:           1.57\n"
          ]
        }
      ]
    },
    {
      "cell_type": "markdown",
      "source": [
        "### 8️⃣ Graficar el comportamiento histórico de las 3 carteras\n",
        "\n",
        "### Simular la evolución del valor del portafolio si hubiésemos aplicado esos pesos desde el inicio del periodo, y mostrar las 3 equity curves sobre los 5 años."
      ],
      "metadata": {
        "id": "iiUYTtCMFA2V"
      }
    },
    {
      "cell_type": "code",
      "source": [
        "# Función para calcular series de acciones a partir de rendimientos y ponderaciones históricas\n",
        "def equity_series_from_weights(weights, prices, initial_capital=10000):\n",
        "    daily_ret = prices.pct_change().dropna()\n",
        "    port_daily = daily_ret.dot(weights)\n",
        "    equity = (1 + port_daily).cumprod() * initial_capital\n",
        "    return equity\n",
        "\n",
        "weights_sortino_arr = w_sortino\n",
        "weights_cvar_arr = w_cvar\n",
        "weights_sharpe_arr = list(w_sharpe.values())\n",
        "\n",
        "eq_sortino = equity_series_from_weights(weights_sortino_arr, prices, initial_capital=10000)\n",
        "eq_cvar = equity_series_from_weights(weights_cvar_arr, prices, initial_capital=10000)\n",
        "eq_sharpe = equity_series_from_weights(weights_sharpe_arr, prices, initial_capital=10000)\n",
        "\n",
        "plt.figure(figsize=(12,6))\n",
        "plt.plot(eq_sharpe.index, eq_sharpe.values, label='Sharpe-max Portfolio', linewidth=2)\n",
        "plt.plot(eq_sortino.index, eq_sortino.values, label='Sortino-max Portfolio', linewidth=2)\n",
        "plt.plot(eq_cvar.index, eq_cvar.values, label='CVaR-min Portfolio', linewidth=2)\n",
        "plt.title(\"Comparativa: Equity Curves (5 años) - 3 Portafolios\")\n",
        "plt.ylabel(\"Valor de portafolio ($)\")\n",
        "plt.xlabel(\"Fecha\")\n",
        "plt.legend()\n",
        "plt.grid(alpha=0.3)\n",
        "plt.show()"
      ],
      "metadata": {
        "colab": {
          "base_uri": "https://localhost:8080/",
          "height": 564
        },
        "id": "8ZWObXNRFT6O",
        "outputId": "f30726db-2094-457f-a42a-f17c326f556d"
      },
      "execution_count": 56,
      "outputs": [
        {
          "output_type": "display_data",
          "data": {
            "text/plain": [
              "<Figure size 1200x600 with 1 Axes>"
            ],
            "image/png": "[encoded data removed]"
          },
          "metadata": {}
        }
      ]
    },
    {
      "cell_type": "markdown",
      "source": [
        "Interpretación visual: observa divergencias, drawdowns y recuperación relativa de cada enfoque."
      ],
      "metadata": {
        "id": "EDSutpWgFegA"
      }
    },
    {
      "cell_type": "markdown",
      "source": [
        "### 9️⃣ Métricas resumidas\n",
        "\n",
        "### Calcular y mostrar las métricas clave para las 3 carteras: Return anual, Volatilidad anual, Sharpe, Sortino (manual), Max Drawdown."
      ],
      "metadata": {
        "id": "z0roIOw2FhdP"
      }
    },
    {
      "cell_type": "code",
      "metadata": {
        "colab": {
          "base_uri": "https://localhost:8080/",
          "height": 143
        },
        "id": "265c1cfa",
        "outputId": "92d5ef75-65d9-4d4e-b356-237122a4a49c"
      },
      "source": [
        "def annual_metrics(equity_series, rf=rf_annual):\n",
        "    # equity_series: pandas Serie de capital acumulado\n",
        "    daily_ret = equity_series.pct_change().dropna()\n",
        "    ann_ret = (1 + daily_ret.mean())**252 - 1\n",
        "    ann_vol = daily_ret.std() * np.sqrt(252)\n",
        "    sharpe = (ann_ret - rf) / ann_vol if ann_vol>0 else np.nan\n",
        "    # Sortino: desviación bajista vs rf_daily\n",
        "    rf_daily = (1+rf)**(1/252)-1\n",
        "    dd = downside_deviation(daily_ret, target=rf_daily)\n",
        "    sortino = (daily_ret.mean() - rf_daily) / dd if dd>0 else np.nan\n",
        "    # Max drawdown\n",
        "    running_max = equity_series.cummax()\n",
        "    drawdown = (equity_series - running_max) / running_max\n",
        "    max_dd = drawdown.min()\n",
        "    return {\"AnnRet\":ann_ret, \"AnnVol\":ann_vol, \"Sharpe\":sharpe, \"Sortino\":sortino, \"MaxDrawdown\":max_dd}\n",
        "\n",
        "metrics_sharpe = annual_metrics(eq_sharpe)\n",
        "metrics_sortino = annual_metrics(eq_sortino)\n",
        "metrics_cvar = annual_metrics(eq_cvar)\n",
        "\n",
        "pd.DataFrame([metrics_sharpe, metrics_sortino, metrics_cvar],\n",
        "             index=[\"Sharpe_Portfolio\",\"Sortino_Portfolio\",\"CVaR_Portfolio\"]).round(4)"
      ],
      "execution_count": 61,
      "outputs": [
        {
          "output_type": "execute_result",
          "data": {
            "text/plain": [
              "                   AnnRet  AnnVol  Sharpe  Sortino  MaxDrawdown\n",
              "Sharpe_Portfolio   0.3817  0.2071  1.6501   0.1317      -0.3405\n",
              "Sortino_Portfolio  0.4453  0.2394  1.6929   0.1330      -0.3974\n",
              "CVaR_Portfolio     0.1881  0.1463  1.0127   0.0827      -0.1620"
            ],
            "text/html": [
              "\n",
              "  <div id=\"df-80dde4dd-c089-473d-8d0f-d71010c68158\" class=\"colab-df-container\">\n",
              "    <div>\n",
              "<style scoped>\n",
              "    .dataframe tbody tr th:only-of-type {\n",
              "        vertical-align: middle;\n",
              "    }\n",
              "\n",
              "    .dataframe tbody tr th {\n",
              "        vertical-align: top;\n",
              "    }\n",
              "\n",
              "    .dataframe thead th {\n",
              "        text-align: right;\n",
              "    }\n",
              "</style>\n",
              "<table border=\"1\" class=\"dataframe\">\n",
              "  <thead>\n",
              "    <tr style=\"text-align: right;\">\n",
              "      <th></th>\n",
              "      <th>AnnRet</th>\n",
              "      <th>AnnVol</th>\n",
              "      <th>Sharpe</th>\n",
              "      <th>Sortino</th>\n",
              "      <th>MaxDrawdown</th>\n",
              "    </tr>\n",
              "  </thead>\n",
              "  <tbody>\n",
              "    <tr>\n",
              "      <th>Sharpe_Portfolio</th>\n",
              "      <td>0.3817</td>\n",
              "      <td>0.2071</td>\n",
              "      <td>1.6501</td>\n",
              "      <td>0.1317</td>\n",
              "      <td>-0.3405</td>\n",
              "    </tr>\n",
              "    <tr>\n",
              "      <th>Sortino_Portfolio</th>\n",
              "      <td>0.4453</td>\n",
              "      <td>0.2394</td>\n",
              "      <td>1.6929</td>\n",
              "      <td>0.1330</td>\n",
              "      <td>-0.3974</td>\n",
              "    </tr>\n",
              "    <tr>\n",
              "      <th>CVaR_Portfolio</th>\n",
              "      <td>0.1881</td>\n",
              "      <td>0.1463</td>\n",
              "      <td>1.0127</td>\n",
              "      <td>0.0827</td>\n",
              "      <td>-0.1620</td>\n",
              "    </tr>\n",
              "  </tbody>\n",
              "</table>\n",
              "</div>\n",
              "    <div class=\"colab-df-buttons\">\n",
              "\n",
              "  <div class=\"colab-df-container\">\n",
              "    <button class=\"colab-df-convert\" onclick=\"convertToInteractive('df-80dde4dd-c089-473d-8d0f-d71010c68158')\"\n",
              "            title=\"Convert this dataframe to an interactive table.\"\n",
              "            style=\"display:none;\">\n",
              "\n",
              "  <svg xmlns=\"http://www.w3.org/2000/svg\" height=\"24px\" viewBox=\"0 -960 960 960\">\n",
              "    <path d=\"M120-120v-720h720v720H120Zm60-500h600v-160H180v160Zm220 220h160v-160H400v160Zm0 220h160v-160H400v160ZM180-400h160v-160H180v160Zm440 0h160v-160H620v160ZM180-180h160v-160H180v160Zm440 0h160v-160H620v160Z\"/>\n",
              "  </svg>\n",
              "    </button>\n",
              "\n",
              "  <style>\n",
              "    .colab-df-container {\n",
              "      display:flex;\n",
              "      gap: 12px;\n",
              "    }\n",
              "\n",
              "    .colab-df-convert {\n",
              "      background-color: #E8F0FE;\n",
              "      border: none;\n",
              "      border-radius: 50%;\n",
              "      cursor: pointer;\n",
              "      display: none;\n",
              "      fill: #1967D2;\n",
              "      height: 32px;\n",
              "      padding: 0 0 0 0;\n",
              "      width: 32px;\n",
              "    }\n",
              "\n",
              "    .colab-df-convert:hover {\n",
              "      background-color: #E2EBFA;\n",
              "      box-shadow: 0px 1px 2px rgba(60, 64, 67, 0.3), 0px 1px 3px 1px rgba(60, 64, 67, 0.15);\n",
              "      fill: #174EA6;\n",
              "    }\n",
              "\n",
              "    .colab-df-buttons div {\n",
              "      margin-bottom: 4px;\n",
              "    }\n",
              "\n",
              "    [theme=dark] .colab-df-convert {\n",
              "      background-color: #3B4455;\n",
              "      fill: #D2E3FC;\n",
              "    }\n",
              "\n",
              "    [theme=dark] .colab-df-convert:hover {\n",
              "      background-color: #434B5C;\n",
              "      box-shadow: 0px 1px 3px 1px rgba(0, 0, 0, 0.15);\n",
              "      filter: drop-shadow(0px 1px 2px rgba(0, 0, 0, 0.3));\n",
              "      fill: #FFFFFF;\n",
              "    }\n",
              "  </style>\n",
              "\n",
              "    <script>\n",
              "      const buttonEl =\n",
              "        document.querySelector('#df-80dde4dd-c089-473d-8d0f-d71010c68158 button.colab-df-convert');\n",
              "      buttonEl.style.display =\n",
              "        google.colab.kernel.accessAllowed ? 'block' : 'none';\n",
              "\n",
              "      async function convertToInteractive(key) {\n",
              "        const element = document.querySelector('#df-80dde4dd-c089-473d-8d0f-d71010c68158');\n",
              "        const dataTable =\n",
              "          await google.colab.kernel.invokeFunction('convertToInteractive',\n",
              "                                                    [key], {});\n",
              "        if (!dataTable) return;\n",
              "\n",
              "        const docLinkHtml = 'Like what you see? Visit the ' +\n",
              "          '<a target=\"_blank\" href=https://colab.research.google.com/notebooks/data_table.ipynb>data table notebook</a>'\n",
              "          + ' to learn more about interactive tables.';\n",
              "        element.innerHTML = '';\n",
              "        dataTable['output_type'] = 'display_data';\n",
              "        await google.colab.output.renderOutput(dataTable, element);\n",
              "        const docLink = document.createElement('div');\n",
              "        docLink.innerHTML = docLinkHtml;\n",
              "        element.appendChild(docLink);\n",
              "      }\n",
              "    </script>\n",
              "  </div>\n",
              "\n",
              "\n",
              "    <div id=\"df-ce23603a-c3a1-4d51-a269-c5346e413700\">\n",
              "      <button class=\"colab-df-quickchart\" onclick=\"quickchart('df-ce23603a-c3a1-4d51-a269-c5346e413700')\"\n",
              "                title=\"Suggest charts\"\n",
              "                style=\"display:none;\">\n",
              "\n",
              "<svg xmlns=\"http://www.w3.org/2000/svg\" height=\"24px\"viewBox=\"0 0 24 24\"\n",
              "     width=\"24px\">\n",
              "    <g>\n",
              "        <path d=\"M19 3H5c-1.1 0-2 .9-2 2v14c0 1.1.9 2 2 2h14c1.1 0 2-.9 2-2V5c0-1.1-.9-2-2-2zM9 17H7v-7h2v7zm4 0h-2V7h2v10zm4 0h-2v-4h2v4z\"/>\n",
              "    </g>\n",
              "</svg>\n",
              "      </button>\n",
              "\n",
              "<style>\n",
              "  .colab-df-quickchart {\n",
              "      --bg-color: #E8F0FE;\n",
              "      --fill-color: #1967D2;\n",
              "      --hover-bg-color: #E2EBFA;\n",
              "      --hover-fill-color: #174EA6;\n",
              "      --disabled-fill-color: #AAA;\n",
              "      --disabled-bg-color: #DDD;\n",
              "  }\n",
              "\n",
              "  [theme=dark] .colab-df-quickchart {\n",
              "      --bg-color: #3B4455;\n",
              "      --fill-color: #D2E3FC;\n",
              "      --hover-bg-color: #434B5C;\n",
              "      --hover-fill-color: #FFFFFF;\n",
              "      --disabled-bg-color: #3B4455;\n",
              "      --disabled-fill-color: #666;\n",
              "  }\n",
              "\n",
              "  .colab-df-quickchart {\n",
              "    background-color: var(--bg-color);\n",
              "    border: none;\n",
              "    border-radius: 50%;\n",
              "    cursor: pointer;\n",
              "    display: none;\n",
              "    fill: var(--fill-color);\n",
              "    height: 32px;\n",
              "    padding: 0;\n",
              "    width: 32px;\n",
              "  }\n",
              "\n",
              "  .colab-df-quickchart:hover {\n",
              "    background-color: var(--hover-bg-color);\n",
              "    box-shadow: 0 1px 2px rgba(60, 64, 67, 0.3), 0 1px 3px 1px rgba(60, 64, 67, 0.15);\n",
              "    fill: var(--button-hover-fill-color);\n",
              "  }\n",
              "\n",
              "  .colab-df-quickchart-complete:disabled,\n",
              "  .colab-df-quickchart-complete:disabled:hover {\n",
              "    background-color: var(--disabled-bg-color);\n",
              "    fill: var(--disabled-fill-color);\n",
              "    box-shadow: none;\n",
              "  }\n",
              "\n",
              "  .colab-df-spinner {\n",
              "    border: 2px solid var(--fill-color);\n",
              "    border-color: transparent;\n",
              "    border-bottom-color: var(--fill-color);\n",
              "    animation:\n",
              "      spin 1s steps(1) infinite;\n",
              "  }\n",
              "\n",
              "  @keyframes spin {\n",
              "    0% {\n",
              "      border-color: transparent;\n",
              "      border-bottom-color: var(--fill-color);\n",
              "      border-left-color: var(--fill-color);\n",
              "    }\n",
              "    20% {\n",
              "      border-color: transparent;\n",
              "      border-left-color: var(--fill-color);\n",
              "      border-top-color: var(--fill-color);\n",
              "    }\n",
              "    30% {\n",
              "      border-color: transparent;\n",
              "      border-left-color: var(--fill-color);\n",
              "      border-top-color: var(--fill-color);\n",
              "      border-right-color: var(--fill-color);\n",
              "    }\n",
              "    40% {\n",
              "      border-color: transparent;\n",
              "      border-right-color: var(--fill-color);\n",
              "      border-top-color: var(--fill-color);\n",
              "    }\n",
              "    60% {\n",
              "      border-color: transparent;\n",
              "      border-right-color: var(--fill-color);\n",
              "    }\n",
              "    80% {\n",
              "      border-color: transparent;\n",
              "      border-right-color: var(--fill-color);\n",
              "      border-bottom-color: var(--fill-color);\n",
              "    }\n",
              "    90% {\n",
              "      border-color: transparent;\n",
              "      border-bottom-color: var(--fill-color);\n",
              "    }\n",
              "  }\n",
              "</style>\n",
              "\n",
              "      <script>\n",
              "        async function quickchart(key) {\n",
              "          const quickchartButtonEl =\n",
              "            document.querySelector('#' + key + ' button');\n",
              "          quickchartButtonEl.disabled = true;  // To prevent multiple clicks.\n",
              "          quickchartButtonEl.classList.add('colab-df-spinner');\n",
              "          try {\n",
              "            const charts = await google.colab.kernel.invokeFunction(\n",
              "                'suggestCharts', [key], {});\n",
              "          } catch (error) {\n",
              "            console.error('Error during call to suggestCharts:', error);\n",
              "          }\n",
              "          quickchartButtonEl.classList.remove('colab-df-spinner');\n",
              "          quickchartButtonEl.classList.add('colab-df-quickchart-complete');\n",
              "        }\n",
              "        (() => {\n",
              "          let quickchartButtonEl =\n",
              "            document.querySelector('#df-ce23603a-c3a1-4d51-a269-c5346e413700 button');\n",
              "          quickchartButtonEl.style.display =\n",
              "            google.colab.kernel.accessAllowed ? 'block' : 'none';\n",
              "        })();\n",
              "      </script>\n",
              "    </div>\n",
              "\n",
              "    </div>\n",
              "  </div>\n"
            ],
            "application/vnd.google.colaboratory.intrinsic+json": {
              "type": "dataframe",
              "summary": "{\n  \"name\": \"             index=[\\\"Sharpe_Portfolio\\\",\\\"Sortino_Portfolio\\\",\\\"CVaR_Portfolio\\\"])\",\n  \"rows\": 3,\n  \"fields\": [\n    {\n      \"column\": \"AnnRet\",\n      \"properties\": {\n        \"dtype\": \"number\",\n        \"std\": 0.13396377619839375,\n        \"min\": 0.1881,\n        \"max\": 0.4453,\n        \"num_unique_values\": 3,\n        \"samples\": [\n          0.3817,\n          0.4453,\n          0.1881\n        ],\n        \"semantic_type\": \"\",\n        \"description\": \"\"\n      }\n    },\n    {\n      \"column\": \"AnnVol\",\n      \"properties\": {\n        \"dtype\": \"number\",\n        \"std\": 0.04727145015757397,\n        \"min\": 0.1463,\n        \"max\": 0.2394,\n        \"num_unique_values\": 3,\n        \"samples\": [\n          0.2071,\n          0.2394,\n          0.1463\n        ],\n        \"semantic_type\": \"\",\n        \"description\": \"\"\n      }\n    },\n    {\n      \"column\": \"Sharpe\",\n      \"properties\": {\n        \"dtype\": \"number\",\n        \"std\": 0.38095989290212695,\n        \"min\": 1.0127,\n        \"max\": 1.6929,\n        \"num_unique_values\": 3,\n        \"samples\": [\n          1.6501,\n          1.6929,\n          1.0127\n        ],\n        \"semantic_type\": \"\",\n        \"description\": \"\"\n      }\n    },\n    {\n      \"column\": \"Sortino\",\n      \"properties\": {\n        \"dtype\": \"number\",\n        \"std\": 0.0286728094193785,\n        \"min\": 0.0827,\n        \"max\": 0.133,\n        \"num_unique_values\": 3,\n        \"samples\": [\n          0.1317,\n          0.133,\n          0.0827\n        ],\n        \"semantic_type\": \"\",\n        \"description\": \"\"\n      }\n    },\n    {\n      \"column\": \"MaxDrawdown\",\n      \"properties\": {\n        \"dtype\": \"number\",\n        \"std\": 0.12282305701021014,\n        \"min\": -0.3974,\n        \"max\": -0.162,\n        \"num_unique_values\": 3,\n        \"samples\": [\n          -0.3405,\n          -0.3974,\n          -0.162\n        ],\n        \"semantic_type\": \"\",\n        \"description\": \"\"\n      }\n    }\n  ]\n}"
            }
          },
          "metadata": {},
          "execution_count": 61
        }
      ]
    },
    {
      "cell_type": "markdown",
      "source": [
        "### 🔟 Parte II — Optimización con restricciones del mundo real\n",
        "###Problema: las carteras “libres” a menudo asignan pesos extremos (ej. 0% a JPM, 50% a NVDA). En gestión real hay límites y reglas."
      ],
      "metadata": {
        "id": "2IZZ34J3IY8X"
      }
    },
    {
      "cell_type": "markdown",
      "source": [
        "#### A) Restricciones de peso por activo\n",
        "\n",
        "#### Ejemplo: limitar a 30% máximo por activo."
      ],
      "metadata": {
        "id": "32EK57Z9I1Ib"
      }
    },
    {
      "cell_type": "code",
      "source": [
        "# Tomemos la cartera max Sharpe como base y rehacemos con restricciones\n",
        "ef_restricted = EfficientFrontier(mu, S)\n",
        "# Añadir constraint: ninguno > 0.30\n",
        "for i, t in enumerate(tickers):\n",
        "    ef_restricted.add_constraint(lambda w, i=i: w[i] <= 0.30)\n",
        "\n",
        "# Long-only y suma a 1 implícitos en ef\n",
        "ef_restricted.max_sharpe()\n",
        "w_restricted = ef_restricted.clean_weights()\n",
        "print(\"Pesos (restringidos 30% max):\", w_restricted)"
      ],
      "metadata": {
        "colab": {
          "base_uri": "https://localhost:8080/"
        },
        "id": "4lkMTMmYI1XD",
        "outputId": "4e793cf5-ab61-49bf-b40a-09c4627d86cd"
      },
      "execution_count": 64,
      "outputs": [
        {
          "output_type": "stream",
          "name": "stdout",
          "text": [
            "Pesos (restringidos 30% max): OrderedDict({'AAPL': 0.1, 'JNJ': 0.3, 'JPM': 0.3, 'NVDA': 0.3})\n"
          ]
        }
      ]
    },
    {
      "cell_type": "markdown",
      "source": [
        "#### B) Restricciones sectoriales (ejemplo)\n",
        "\n",
        "#### Preparar sectores y aplicar límites: (NVDA,AAPL → Tecnología; JNJ → Salud; JPM → Finanzas). Limitamos tecnología a máximo 50% y salud mínimo 10%."
      ],
      "metadata": {
        "id": "BsQx3sxNJDfp"
      }
    },
    {
      "cell_type": "code",
      "source": [
        "# Definir límites por sector\n",
        "sector_mapper = {\"NVDA\": \"Technology\", \"AAPL\": \"Technology\",\n",
        "                 \"JNJ\": \"Health\", \"JPM\": \"Financials\"}\n",
        "\n",
        "sector_lower = {\"Technology\": 0.0, \"Health\": 0.1, \"Financials\": 0.0}\n",
        "sector_upper = {\"Technology\": 0.30, \"Health\": 0.28, \"Financials\": 1.0}\n",
        "\n",
        "ef_sector = EfficientFrontier(mu, S)\n",
        "ef_sector.add_sector_constraints(sector_mapper, sector_lower, sector_upper)\n",
        "\n",
        "ef_sector.max_sharpe()\n",
        "w_sector = ef_sector.clean_weights()\n",
        "print(\"Pesos (sector-constrained):\", w_sector)\n",
        "\n",
        "# Verificación\n",
        "tech_weight = sum(w_sector[t] for t in [\"NVDA\", \"AAPL\"])\n",
        "health_weight = sum(w_sector[t] for t in [\"JNJ\"])\n",
        "print(f\"\\nTecnología: {tech_weight:.2%} | Salud: {health_weight:.2%}\")"
      ],
      "metadata": {
        "colab": {
          "base_uri": "https://localhost:8080/"
        },
        "id": "dESGtjTuJDo2",
        "outputId": "8b0c4718-f7b7-468b-eab9-d68423604d00"
      },
      "execution_count": 89,
      "outputs": [
        {
          "output_type": "stream",
          "name": "stdout",
          "text": [
            "Pesos (sector-constrained): OrderedDict({'AAPL': 0.0, 'JNJ': 0.28, 'JPM': 0.42, 'NVDA': 0.3})\n",
            "\n",
            "Tecnología: 30.00% | Salud: 28.00%\n"
          ]
        }
      ]
    },
    {
      "cell_type": "markdown",
      "source": [
        "Nota: add_sector_constraints() existe en algunas versiones de pypfopt; la forma mostrada usa add_constraint con sumatorias para mayor compatibilidad."
      ],
      "metadata": {
        "id": "JrdZj7CrJ1md"
      }
    },
    {
      "cell_type": "markdown",
      "source": [
        "### 1️⃣1️⃣ Comparativa final: libre vs. restringida"
      ],
      "metadata": {
        "id": "hhpgvbYZJ3rC"
      }
    },
    {
      "cell_type": "code",
      "metadata": {
        "id": "a200c15b"
      },
      "source": [
        "# Calcular equity curve para carteras restringidas y con restricciones sectoriales\n",
        "weights_restricted_arr = list(w_restricted.values())\n",
        "weights_sector_arr = list(w_sector.values())\n",
        "\n",
        "eq_restricted = equity_series_from_weights(weights_restricted_arr, prices, initial_capital=10000)\n",
        "eq_sector = equity_series_from_weights(weights_sector_arr, prices, initial_capital=10000)\n",
        "\n",
        "# Calcular métricas para carteras restringidas y con restricciones sectoriales\n",
        "metrics_restricted = annual_metrics(eq_restricted)\n",
        "metrics_sector = annual_metrics(eq_sector)"
      ],
      "execution_count": 72,
      "outputs": []
    },
    {
      "cell_type": "markdown",
      "metadata": {
        "id": "786bcdd3"
      },
      "source": [
        "### Resumen de Pesos de Portafolio\n",
        "\n",
        "Aquí se muestra una tabla con los pesos asignados a cada activo en los diferentes portafolios optimizados:"
      ]
    },
    {
      "cell_type": "code",
      "metadata": {
        "colab": {
          "base_uri": "https://localhost:8080/",
          "height": 143
        },
        "id": "f9453e12",
        "outputId": "4eeeb9e8-b82a-42c4-d9f6-3c8dbbc44d91"
      },
      "source": [
        "weights_summary = pd.DataFrame({\n",
        "    \"Sharpe (Libre)\": w_sharpe,\n",
        "    \"Sharpe (Restringido)\": w_restricted,\n",
        "    \"Sharpe (Sector-Constrained)\": w_sector\n",
        "}).T\n",
        "\n",
        "# Formatear pesos como porcentajes\n",
        "def format_weights_as_percentage(df):\n",
        "    return df.map(lambda x: f\"{x:.2%}\" if isinstance(x, (int, float)) else x)\n",
        "\n",
        "display(format_weights_as_percentage(weights_summary))"
      ],
      "execution_count": 93,
      "outputs": [
        {
          "output_type": "display_data",
          "data": {
            "text/plain": [
              "                               AAPL     JNJ     JPM    NVDA\n",
              "Sharpe (Libre)                0.00%  34.96%  36.36%  28.68%\n",
              "Sharpe (Restringido)         10.00%  30.00%  30.00%  30.00%\n",
              "Sharpe (Sector-Constrained)   0.00%  28.00%  42.00%  30.00%"
            ],
            "text/html": [
              "\n",
              "  <div id=\"df-88c5566b-94ad-4160-8b3f-2180c85087df\" class=\"colab-df-container\">\n",
              "    <div>\n",
              "<style scoped>\n",
              "    .dataframe tbody tr th:only-of-type {\n",
              "        vertical-align: middle;\n",
              "    }\n",
              "\n",
              "    .dataframe tbody tr th {\n",
              "        vertical-align: top;\n",
              "    }\n",
              "\n",
              "    .dataframe thead th {\n",
              "        text-align: right;\n",
              "    }\n",
              "</style>\n",
              "<table border=\"1\" class=\"dataframe\">\n",
              "  <thead>\n",
              "    <tr style=\"text-align: right;\">\n",
              "      <th></th>\n",
              "      <th>AAPL</th>\n",
              "      <th>JNJ</th>\n",
              "      <th>JPM</th>\n",
              "      <th>NVDA</th>\n",
              "    </tr>\n",
              "  </thead>\n",
              "  <tbody>\n",
              "    <tr>\n",
              "      <th>Sharpe (Libre)</th>\n",
              "      <td>0.00%</td>\n",
              "      <td>34.96%</td>\n",
              "      <td>36.36%</td>\n",
              "      <td>28.68%</td>\n",
              "    </tr>\n",
              "    <tr>\n",
              "      <th>Sharpe (Restringido)</th>\n",
              "      <td>10.00%</td>\n",
              "      <td>30.00%</td>\n",
              "      <td>30.00%</td>\n",
              "      <td>30.00%</td>\n",
              "    </tr>\n",
              "    <tr>\n",
              "      <th>Sharpe (Sector-Constrained)</th>\n",
              "      <td>0.00%</td>\n",
              "      <td>28.00%</td>\n",
              "      <td>42.00%</td>\n",
              "      <td>30.00%</td>\n",
              "    </tr>\n",
              "  </tbody>\n",
              "</table>\n",
              "</div>\n",
              "    <div class=\"colab-df-buttons\">\n",
              "\n",
              "  <div class=\"colab-df-container\">\n",
              "    <button class=\"colab-df-convert\" onclick=\"convertToInteractive('df-88c5566b-94ad-4160-8b3f-2180c85087df')\"\n",
              "            title=\"Convert this dataframe to an interactive table.\"\n",
              "            style=\"display:none;\">\n",
              "\n",
              "  <svg xmlns=\"http://www.w3.org/2000/svg\" height=\"24px\" viewBox=\"0 -960 960 960\">\n",
              "    <path d=\"M120-120v-720h720v720H120Zm60-500h600v-160H180v160Zm220 220h160v-160H400v160Zm0 220h160v-160H400v160ZM180-400h160v-160H180v160Zm440 0h160v-160H620v160ZM180-180h160v-160H180v160Zm440 0h160v-160H620v160Z\"/>\n",
              "  </svg>\n",
              "    </button>\n",
              "\n",
              "  <style>\n",
              "    .colab-df-container {\n",
              "      display:flex;\n",
              "      gap: 12px;\n",
              "    }\n",
              "\n",
              "    .colab-df-convert {\n",
              "      background-color: #E8F0FE;\n",
              "      border: none;\n",
              "      border-radius: 50%;\n",
              "      cursor: pointer;\n",
              "      display: none;\n",
              "      fill: #1967D2;\n",
              "      height: 32px;\n",
              "      padding: 0 0 0 0;\n",
              "      width: 32px;\n",
              "    }\n",
              "\n",
              "    .colab-df-convert:hover {\n",
              "      background-color: #E2EBFA;\n",
              "      box-shadow: 0px 1px 2px rgba(60, 64, 67, 0.3), 0px 1px 3px 1px rgba(60, 64, 67, 0.15);\n",
              "      fill: #174EA6;\n",
              "    }\n",
              "\n",
              "    .colab-df-buttons div {\n",
              "      margin-bottom: 4px;\n",
              "    }\n",
              "\n",
              "    [theme=dark] .colab-df-convert {\n",
              "      background-color: #3B4455;\n",
              "      fill: #D2E3FC;\n",
              "    }\n",
              "\n",
              "    [theme=dark] .colab-df-convert:hover {\n",
              "      background-color: #434B5C;\n",
              "      box-shadow: 0px 1px 3px 1px rgba(0, 0, 0, 0.15);\n",
              "      filter: drop-shadow(0px 1px 2px rgba(0, 0, 0, 0.3));\n",
              "      fill: #FFFFFF;\n",
              "    }\n",
              "  </style>\n",
              "\n",
              "    <script>\n",
              "      const buttonEl =\n",
              "        document.querySelector('#df-88c5566b-94ad-4160-8b3f-2180c85087df button.colab-df-convert');\n",
              "      buttonEl.style.display =\n",
              "        google.colab.kernel.accessAllowed ? 'block' : 'none';\n",
              "\n",
              "      async function convertToInteractive(key) {\n",
              "        const element = document.querySelector('#df-88c5566b-94ad-4160-8b3f-2180c85087df');\n",
              "        const dataTable =\n",
              "          await google.colab.kernel.invokeFunction('convertToInteractive',\n",
              "                                                    [key], {});\n",
              "        if (!dataTable) return;\n",
              "\n",
              "        const docLinkHtml = 'Like what you see? Visit the ' +\n",
              "          '<a target=\"_blank\" href=https://colab.research.google.com/notebooks/data_table.ipynb>data table notebook</a>'\n",
              "          + ' to learn more about interactive tables.';\n",
              "        element.innerHTML = '';\n",
              "        dataTable['output_type'] = 'display_data';\n",
              "        await google.colab.output.renderOutput(dataTable, element);\n",
              "        const docLink = document.createElement('div');\n",
              "        docLink.innerHTML = docLinkHtml;\n",
              "        element.appendChild(docLink);\n",
              "      }\n",
              "    </script>\n",
              "  </div>\n",
              "\n",
              "\n",
              "    <div id=\"df-32996662-3750-4ef5-bcc2-60053d274ccd\">\n",
              "      <button class=\"colab-df-quickchart\" onclick=\"quickchart('df-32996662-3750-4ef5-bcc2-60053d274ccd')\"\n",
              "                title=\"Suggest charts\"\n",
              "                style=\"display:none;\">\n",
              "\n",
              "<svg xmlns=\"http://www.w3.org/2000/svg\" height=\"24px\"viewBox=\"0 0 24 24\"\n",
              "     width=\"24px\">\n",
              "    <g>\n",
              "        <path d=\"M19 3H5c-1.1 0-2 .9-2 2v14c0 1.1.9 2 2 2h14c1.1 0 2-.9 2-2V5c0-1.1-.9-2-2-2zM9 17H7v-7h2v7zm4 0h-2V7h2v10zm4 0h-2v-4h2v4z\"/>\n",
              "    </g>\n",
              "</svg>\n",
              "      </button>\n",
              "\n",
              "<style>\n",
              "  .colab-df-quickchart {\n",
              "      --bg-color: #E8F0FE;\n",
              "      --fill-color: #1967D2;\n",
              "      --hover-bg-color: #E2EBFA;\n",
              "      --hover-fill-color: #174EA6;\n",
              "      --disabled-fill-color: #AAA;\n",
              "      --disabled-bg-color: #DDD;\n",
              "  }\n",
              "\n",
              "  [theme=dark] .colab-df-quickchart {\n",
              "      --bg-color: #3B4455;\n",
              "      --fill-color: #D2E3FC;\n",
              "      --hover-bg-color: #434B5C;\n",
              "      --hover-fill-color: #FFFFFF;\n",
              "      --disabled-bg-color: #3B4455;\n",
              "      --disabled-fill-color: #666;\n",
              "  }\n",
              "\n",
              "  .colab-df-quickchart {\n",
              "    background-color: var(--bg-color);\n",
              "    border: none;\n",
              "    border-radius: 50%;\n",
              "    cursor: pointer;\n",
              "    display: none;\n",
              "    fill: var(--fill-color);\n",
              "    height: 32px;\n",
              "    padding: 0;\n",
              "    width: 32px;\n",
              "  }\n",
              "\n",
              "  .colab-df-quickchart:hover {\n",
              "    background-color: var(--hover-bg-color);\n",
              "    box-shadow: 0 1px 2px rgba(60, 64, 67, 0.3), 0 1px 3px 1px rgba(60, 64, 67, 0.15);\n",
              "    fill: var(--button-hover-fill-color);\n",
              "  }\n",
              "\n",
              "  .colab-df-quickchart-complete:disabled,\n",
              "  .colab-df-quickchart-complete:disabled:hover {\n",
              "    background-color: var(--disabled-bg-color);\n",
              "    fill: var(--disabled-fill-color);\n",
              "    box-shadow: none;\n",
              "  }\n",
              "\n",
              "  .colab-df-spinner {\n",
              "    border: 2px solid var(--fill-color);\n",
              "    border-color: transparent;\n",
              "    border-bottom-color: var(--fill-color);\n",
              "    animation:\n",
              "      spin 1s steps(1) infinite;\n",
              "  }\n",
              "\n",
              "  @keyframes spin {\n",
              "    0% {\n",
              "      border-color: transparent;\n",
              "      border-bottom-color: var(--fill-color);\n",
              "      border-left-color: var(--fill-color);\n",
              "    }\n",
              "    20% {\n",
              "      border-color: transparent;\n",
              "      border-left-color: var(--fill-color);\n",
              "      border-top-color: var(--fill-color);\n",
              "    }\n",
              "    30% {\n",
              "      border-color: transparent;\n",
              "      border-left-color: var(--fill-color);\n",
              "      border-top-color: var(--fill-color);\n",
              "      border-right-color: var(--fill-color);\n",
              "    }\n",
              "    40% {\n",
              "      border-color: transparent;\n",
              "      border-right-color: var(--fill-color);\n",
              "      border-top-color: var(--fill-color);\n",
              "    }\n",
              "    60% {\n",
              "      border-color: transparent;\n",
              "      border-right-color: var(--fill-color);\n",
              "    }\n",
              "    80% {\n",
              "      border-color: transparent;\n",
              "      border-right-color: var(--fill-color);\n",
              "      border-bottom-color: var(--fill-color);\n",
              "    }\n",
              "    90% {\n",
              "      border-color: transparent;\n",
              "      border-bottom-color: var(--fill-color);\n",
              "    }\n",
              "  }\n",
              "</style>\n",
              "\n",
              "      <script>\n",
              "        async function quickchart(key) {\n",
              "          const quickchartButtonEl =\n",
              "            document.querySelector('#' + key + ' button');\n",
              "          quickchartButtonEl.disabled = true;  // To prevent multiple clicks.\n",
              "          quickchartButtonEl.classList.add('colab-df-spinner');\n",
              "          try {\n",
              "            const charts = await google.colab.kernel.invokeFunction(\n",
              "                'suggestCharts', [key], {});\n",
              "          } catch (error) {\n",
              "            console.error('Error during call to suggestCharts:', error);\n",
              "          }\n",
              "          quickchartButtonEl.classList.remove('colab-df-spinner');\n",
              "          quickchartButtonEl.classList.add('colab-df-quickchart-complete');\n",
              "        }\n",
              "        (() => {\n",
              "          let quickchartButtonEl =\n",
              "            document.querySelector('#df-32996662-3750-4ef5-bcc2-60053d274ccd button');\n",
              "          quickchartButtonEl.style.display =\n",
              "            google.colab.kernel.accessAllowed ? 'block' : 'none';\n",
              "        })();\n",
              "      </script>\n",
              "    </div>\n",
              "\n",
              "    </div>\n",
              "  </div>\n"
            ],
            "application/vnd.google.colaboratory.intrinsic+json": {
              "type": "dataframe",
              "summary": "{\n  \"name\": \"display(format_weights_as_percentage(weights_summary))\",\n  \"rows\": 3,\n  \"fields\": [\n    {\n      \"column\": \"AAPL\",\n      \"properties\": {\n        \"dtype\": \"string\",\n        \"num_unique_values\": 2,\n        \"samples\": [\n          \"10.00%\",\n          \"0.00%\"\n        ],\n        \"semantic_type\": \"\",\n        \"description\": \"\"\n      }\n    },\n    {\n      \"column\": \"JNJ\",\n      \"properties\": {\n        \"dtype\": \"string\",\n        \"num_unique_values\": 3,\n        \"samples\": [\n          \"34.96%\",\n          \"30.00%\"\n        ],\n        \"semantic_type\": \"\",\n        \"description\": \"\"\n      }\n    },\n    {\n      \"column\": \"JPM\",\n      \"properties\": {\n        \"dtype\": \"string\",\n        \"num_unique_values\": 3,\n        \"samples\": [\n          \"36.36%\",\n          \"30.00%\"\n        ],\n        \"semantic_type\": \"\",\n        \"description\": \"\"\n      }\n    },\n    {\n      \"column\": \"NVDA\",\n      \"properties\": {\n        \"dtype\": \"string\",\n        \"num_unique_values\": 2,\n        \"samples\": [\n          \"30.00%\",\n          \"28.68%\"\n        ],\n        \"semantic_type\": \"\",\n        \"description\": \"\"\n      }\n    }\n  ]\n}"
            }
          },
          "metadata": {}
        }
      ]
    },
    {
      "cell_type": "markdown",
      "metadata": {
        "id": "b80ea219"
      },
      "source": [
        "### Resumen de Métricas de Rendimiento y Riesgo\n",
        "\n",
        "Aquí se presenta una tabla comparativa de las métricas clave para cada portafolio:"
      ]
    },
    {
      "cell_type": "code",
      "metadata": {
        "colab": {
          "base_uri": "https://localhost:8080/",
          "height": 143
        },
        "id": "96180482",
        "outputId": "3b0e3d61-cbd3-4578-853c-f98a8caccab6"
      },
      "source": [
        "metrics_summary = pd.DataFrame([metrics_sharpe, metrics_restricted, metrics_sector],\n",
        "             index=[\"Sharpe (Libre)\",\"Sharpe (Restringido)\",\"Sharpe (Sector-Constrained)\"]).round(4)\n",
        "\n",
        "display(metrics_summary)"
      ],
      "execution_count": 95,
      "outputs": [
        {
          "output_type": "display_data",
          "data": {
            "text/plain": [
              "                             AnnRet  AnnVol  Sharpe  Sortino  MaxDrawdown\n",
              "Sharpe (Libre)               0.3817  0.2071  1.6501   0.1317      -0.3405\n",
              "Sharpe (Restringido)         0.3919  0.2171  1.6206   0.1289      -0.3435\n",
              "Sharpe (Sector-Constrained)  0.3817  0.2071  1.6501   0.1317      -0.3405"
            ],
            "text/html": [
              "\n",
              "  <div id=\"df-89a912f2-0c56-49e9-897c-053c51acd577\" class=\"colab-df-container\">\n",
              "    <div>\n",
              "<style scoped>\n",
              "    .dataframe tbody tr th:only-of-type {\n",
              "        vertical-align: middle;\n",
              "    }\n",
              "\n",
              "    .dataframe tbody tr th {\n",
              "        vertical-align: top;\n",
              "    }\n",
              "\n",
              "    .dataframe thead th {\n",
              "        text-align: right;\n",
              "    }\n",
              "</style>\n",
              "<table border=\"1\" class=\"dataframe\">\n",
              "  <thead>\n",
              "    <tr style=\"text-align: right;\">\n",
              "      <th></th>\n",
              "      <th>AnnRet</th>\n",
              "      <th>AnnVol</th>\n",
              "      <th>Sharpe</th>\n",
              "      <th>Sortino</th>\n",
              "      <th>MaxDrawdown</th>\n",
              "    </tr>\n",
              "  </thead>\n",
              "  <tbody>\n",
              "    <tr>\n",
              "      <th>Sharpe (Libre)</th>\n",
              "      <td>0.3817</td>\n",
              "      <td>0.2071</td>\n",
              "      <td>1.6501</td>\n",
              "      <td>0.1317</td>\n",
              "      <td>-0.3405</td>\n",
              "    </tr>\n",
              "    <tr>\n",
              "      <th>Sharpe (Restringido)</th>\n",
              "      <td>0.3919</td>\n",
              "      <td>0.2171</td>\n",
              "      <td>1.6206</td>\n",
              "      <td>0.1289</td>\n",
              "      <td>-0.3435</td>\n",
              "    </tr>\n",
              "    <tr>\n",
              "      <th>Sharpe (Sector-Constrained)</th>\n",
              "      <td>0.3817</td>\n",
              "      <td>0.2071</td>\n",
              "      <td>1.6501</td>\n",
              "      <td>0.1317</td>\n",
              "      <td>-0.3405</td>\n",
              "    </tr>\n",
              "  </tbody>\n",
              "</table>\n",
              "</div>\n",
              "    <div class=\"colab-df-buttons\">\n",
              "\n",
              "  <div class=\"colab-df-container\">\n",
              "    <button class=\"colab-df-convert\" onclick=\"convertToInteractive('df-89a912f2-0c56-49e9-897c-053c51acd577')\"\n",
              "            title=\"Convert this dataframe to an interactive table.\"\n",
              "            style=\"display:none;\">\n",
              "\n",
              "  <svg xmlns=\"http://www.w3.org/2000/svg\" height=\"24px\" viewBox=\"0 -960 960 960\">\n",
              "    <path d=\"M120-120v-720h720v720H120Zm60-500h600v-160H180v160Zm220 220h160v-160H400v160Zm0 220h160v-160H400v160ZM180-400h160v-160H180v160Zm440 0h160v-160H620v160ZM180-180h160v-160H180v160Zm440 0h160v-160H620v160Z\"/>\n",
              "  </svg>\n",
              "    </button>\n",
              "\n",
              "  <style>\n",
              "    .colab-df-container {\n",
              "      display:flex;\n",
              "      gap: 12px;\n",
              "    }\n",
              "\n",
              "    .colab-df-convert {\n",
              "      background-color: #E8F0FE;\n",
              "      border: none;\n",
              "      border-radius: 50%;\n",
              "      cursor: pointer;\n",
              "      display: none;\n",
              "      fill: #1967D2;\n",
              "      height: 32px;\n",
              "      padding: 0 0 0 0;\n",
              "      width: 32px;\n",
              "    }\n",
              "\n",
              "    .colab-df-convert:hover {\n",
              "      background-color: #E2EBFA;\n",
              "      box-shadow: 0px 1px 2px rgba(60, 64, 67, 0.3), 0px 1px 3px 1px rgba(60, 64, 67, 0.15);\n",
              "      fill: #174EA6;\n",
              "    }\n",
              "\n",
              "    .colab-df-buttons div {\n",
              "      margin-bottom: 4px;\n",
              "    }\n",
              "\n",
              "    [theme=dark] .colab-df-convert {\n",
              "      background-color: #3B4455;\n",
              "      fill: #D2E3FC;\n",
              "    }\n",
              "\n",
              "    [theme=dark] .colab-df-convert:hover {\n",
              "      background-color: #434B5C;\n",
              "      box-shadow: 0px 1px 3px 1px rgba(0, 0, 0, 0.15);\n",
              "      filter: drop-shadow(0px 1px 2px rgba(0, 0, 0, 0.3));\n",
              "      fill: #FFFFFF;\n",
              "    }\n",
              "  </style>\n",
              "\n",
              "    <script>\n",
              "      const buttonEl =\n",
              "        document.querySelector('#df-89a912f2-0c56-49e9-897c-053c51acd577 button.colab-df-convert');\n",
              "      buttonEl.style.display =\n",
              "        google.colab.kernel.accessAllowed ? 'block' : 'none';\n",
              "\n",
              "      async function convertToInteractive(key) {\n",
              "        const element = document.querySelector('#df-89a912f2-0c56-49e9-897c-053c51acd577');\n",
              "        const dataTable =\n",
              "          await google.colab.kernel.invokeFunction('convertToInteractive',\n",
              "                                                    [key], {});\n",
              "        if (!dataTable) return;\n",
              "\n",
              "        const docLinkHtml = 'Like what you see? Visit the ' +\n",
              "          '<a target=\"_blank\" href=https://colab.research.google.com/notebooks/data_table.ipynb>data table notebook</a>'\n",
              "          + ' to learn more about interactive tables.';\n",
              "        element.innerHTML = '';\n",
              "        dataTable['output_type'] = 'display_data';\n",
              "        await google.colab.output.renderOutput(dataTable, element);\n",
              "        const docLink = document.createElement('div');\n",
              "        docLink.innerHTML = docLinkHtml;\n",
              "        element.appendChild(docLink);\n",
              "      }\n",
              "    </script>\n",
              "  </div>\n",
              "\n",
              "\n",
              "    <div id=\"df-306eb254-da07-4a58-ab5b-1168fb52dff3\">\n",
              "      <button class=\"colab-df-quickchart\" onclick=\"quickchart('df-306eb254-da07-4a58-ab5b-1168fb52dff3')\"\n",
              "                title=\"Suggest charts\"\n",
              "                style=\"display:none;\">\n",
              "\n",
              "<svg xmlns=\"http://www.w3.org/2000/svg\" height=\"24px\"viewBox=\"0 0 24 24\"\n",
              "     width=\"24px\">\n",
              "    <g>\n",
              "        <path d=\"M19 3H5c-1.1 0-2 .9-2 2v14c0 1.1.9 2 2 2h14c1.1 0 2-.9 2-2V5c0-1.1-.9-2-2-2zM9 17H7v-7h2v7zm4 0h-2V7h2v10zm4 0h-2v-4h2v4z\"/>\n",
              "    </g>\n",
              "</svg>\n",
              "      </button>\n",
              "\n",
              "<style>\n",
              "  .colab-df-quickchart {\n",
              "      --bg-color: #E8F0FE;\n",
              "      --fill-color: #1967D2;\n",
              "      --hover-bg-color: #E2EBFA;\n",
              "      --hover-fill-color: #174EA6;\n",
              "      --disabled-fill-color: #AAA;\n",
              "      --disabled-bg-color: #DDD;\n",
              "  }\n",
              "\n",
              "  [theme=dark] .colab-df-quickchart {\n",
              "      --bg-color: #3B4455;\n",
              "      --fill-color: #D2E3FC;\n",
              "      --hover-bg-color: #434B5C;\n",
              "      --hover-fill-color: #FFFFFF;\n",
              "      --disabled-bg-color: #3B4455;\n",
              "      --disabled-fill-color: #666;\n",
              "  }\n",
              "\n",
              "  .colab-df-quickchart {\n",
              "    background-color: var(--bg-color);\n",
              "    border: none;\n",
              "    border-radius: 50%;\n",
              "    cursor: pointer;\n",
              "    display: none;\n",
              "    fill: var(--fill-color);\n",
              "    height: 32px;\n",
              "    padding: 0;\n",
              "    width: 32px;\n",
              "  }\n",
              "\n",
              "  .colab-df-quickchart:hover {\n",
              "    background-color: var(--hover-bg-color);\n",
              "    box-shadow: 0 1px 2px rgba(60, 64, 67, 0.3), 0 1px 3px 1px rgba(60, 64, 67, 0.15);\n",
              "    fill: var(--button-hover-fill-color);\n",
              "  }\n",
              "\n",
              "  .colab-df-quickchart-complete:disabled,\n",
              "  .colab-df-quickchart-complete:disabled:hover {\n",
              "    background-color: var(--disabled-bg-color);\n",
              "    fill: var(--disabled-fill-color);\n",
              "    box-shadow: none;\n",
              "  }\n",
              "\n",
              "  .colab-df-spinner {\n",
              "    border: 2px solid var(--fill-color);\n",
              "    border-color: transparent;\n",
              "    border-bottom-color: var(--fill-color);\n",
              "    animation:\n",
              "      spin 1s steps(1) infinite;\n",
              "  }\n",
              "\n",
              "  @keyframes spin {\n",
              "    0% {\n",
              "      border-color: transparent;\n",
              "      border-bottom-color: var(--fill-color);\n",
              "      border-left-color: var(--fill-color);\n",
              "    }\n",
              "    20% {\n",
              "      border-color: transparent;\n",
              "      border-left-color: var(--fill-color);\n",
              "      border-top-color: var(--fill-color);\n",
              "    }\n",
              "    30% {\n",
              "      border-color: transparent;\n",
              "      border-left-color: var(--fill-color);\n",
              "      border-top-color: var(--fill-color);\n",
              "      border-right-color: var(--fill-color);\n",
              "    }\n",
              "    40% {\n",
              "      border-color: transparent;\n",
              "      border-right-color: var(--fill-color);\n",
              "      border-top-color: var(--fill-color);\n",
              "    }\n",
              "    60% {\n",
              "      border-color: transparent;\n",
              "      border-right-color: var(--fill-color);\n",
              "    }\n",
              "    80% {\n",
              "      border-color: transparent;\n",
              "      border-right-color: var(--fill-color);\n",
              "      border-bottom-color: var(--fill-color);\n",
              "    }\n",
              "    90% {\n",
              "      border-color: transparent;\n",
              "      border-bottom-color: var(--fill-color);\n",
              "    }\n",
              "  }\n",
              "</style>\n",
              "\n",
              "      <script>\n",
              "        async function quickchart(key) {\n",
              "          const quickchartButtonEl =\n",
              "            document.querySelector('#' + key + ' button');\n",
              "          quickchartButtonEl.disabled = true;  // To prevent multiple clicks.\n",
              "          quickchartButtonEl.classList.add('colab-df-spinner');\n",
              "          try {\n",
              "            const charts = await google.colab.kernel.invokeFunction(\n",
              "                'suggestCharts', [key], {});\n",
              "          } catch (error) {\n",
              "            console.error('Error during call to suggestCharts:', error);\n",
              "          }\n",
              "          quickchartButtonEl.classList.remove('colab-df-spinner');\n",
              "          quickchartButtonEl.classList.add('colab-df-quickchart-complete');\n",
              "        }\n",
              "        (() => {\n",
              "          let quickchartButtonEl =\n",
              "            document.querySelector('#df-306eb254-da07-4a58-ab5b-1168fb52dff3 button');\n",
              "          quickchartButtonEl.style.display =\n",
              "            google.colab.kernel.accessAllowed ? 'block' : 'none';\n",
              "        })();\n",
              "      </script>\n",
              "    </div>\n",
              "\n",
              "  <div id=\"id_2aea4080-a389-4f8e-ae89-8a664a1f903d\">\n",
              "    <style>\n",
              "      .colab-df-generate {\n",
              "        background-color: #E8F0FE;\n",
              "        border: none;\n",
              "        border-radius: 50%;\n",
              "        cursor: pointer;\n",
              "        display: none;\n",
              "        fill: #1967D2;\n",
              "        height: 32px;\n",
              "        padding: 0 0 0 0;\n",
              "        width: 32px;\n",
              "      }\n",
              "\n",
              "      .colab-df-generate:hover {\n",
              "        background-color: #E2EBFA;\n",
              "        box-shadow: 0px 1px 2px rgba(60, 64, 67, 0.3), 0px 1px 3px 1px rgba(60, 64, 67, 0.15);\n",
              "        fill: #174EA6;\n",
              "      }\n",
              "\n",
              "      [theme=dark] .colab-df-generate {\n",
              "        background-color: #3B4455;\n",
              "        fill: #D2E3FC;\n",
              "      }\n",
              "\n",
              "      [theme=dark] .colab-df-generate:hover {\n",
              "        background-color: #434B5C;\n",
              "        box-shadow: 0px 1px 3px 1px rgba(0, 0, 0, 0.15);\n",
              "        filter: drop-shadow(0px 1px 2px rgba(0, 0, 0, 0.3));\n",
              "        fill: #FFFFFF;\n",
              "      }\n",
              "    </style>\n",
              "    <button class=\"colab-df-generate\" onclick=\"generateWithVariable('metrics_summary')\"\n",
              "            title=\"Generate code using this dataframe.\"\n",
              "            style=\"display:none;\">\n",
              "\n",
              "  <svg xmlns=\"http://www.w3.org/2000/svg\" height=\"24px\"viewBox=\"0 0 24 24\"\n",
              "       width=\"24px\">\n",
              "    <path d=\"M7,19H8.4L18.45,9,17,7.55,7,17.6ZM5,21V16.75L18.45,3.32a2,2,0,0,1,2.83,0l1.4,1.43a1.91,1.91,0,0,1,.58,1.4,1.91,1.91,0,0,1-.58,1.4L9.25,21ZM18.45,9,17,7.55Zm-12,3A5.31,5.31,0,0,0,4.9,8.1,5.31,5.31,0,0,0,1,6.5,5.31,5.31,0,0,0,4.9,4.9,5.31,5.31,0,0,0,6.5,1,5.31,5.31,0,0,0,8.1,4.9,5.31,5.31,0,0,0,12,6.5,5.46,5.46,0,0,0,6.5,12Z\"/>\n",
              "  </svg>\n",
              "    </button>\n",
              "    <script>\n",
              "      (() => {\n",
              "      const buttonEl =\n",
              "        document.querySelector('#id_2aea4080-a389-4f8e-ae89-8a664a1f903d button.colab-df-generate');\n",
              "      buttonEl.style.display =\n",
              "        google.colab.kernel.accessAllowed ? 'block' : 'none';\n",
              "\n",
              "      buttonEl.onclick = () => {\n",
              "        google.colab.notebook.generateWithVariable('metrics_summary');\n",
              "      }\n",
              "      })();\n",
              "    </script>\n",
              "  </div>\n",
              "\n",
              "    </div>\n",
              "  </div>\n"
            ],
            "application/vnd.google.colaboratory.intrinsic+json": {
              "type": "dataframe",
              "variable_name": "metrics_summary",
              "summary": "{\n  \"name\": \"metrics_summary\",\n  \"rows\": 3,\n  \"fields\": [\n    {\n      \"column\": \"AnnRet\",\n      \"properties\": {\n        \"dtype\": \"number\",\n        \"std\": 0.005888972745734207,\n        \"min\": 0.3817,\n        \"max\": 0.3919,\n        \"num_unique_values\": 2,\n        \"samples\": [\n          0.3919,\n          0.3817\n        ],\n        \"semantic_type\": \"\",\n        \"description\": \"\"\n      }\n    },\n    {\n      \"column\": \"AnnVol\",\n      \"properties\": {\n        \"dtype\": \"number\",\n        \"std\": 0.005773502691896247,\n        \"min\": 0.2071,\n        \"max\": 0.2171,\n        \"num_unique_values\": 2,\n        \"samples\": [\n          0.2171,\n          0.2071\n        ],\n        \"semantic_type\": \"\",\n        \"description\": \"\"\n      }\n    },\n    {\n      \"column\": \"Sharpe\",\n      \"properties\": {\n        \"dtype\": \"number\",\n        \"std\": 0.01703183294109388,\n        \"min\": 1.6206,\n        \"max\": 1.6501,\n        \"num_unique_values\": 2,\n        \"samples\": [\n          1.6206,\n          1.6501\n        ],\n        \"semantic_type\": \"\",\n        \"description\": \"\"\n      }\n    },\n    {\n      \"column\": \"Sortino\",\n      \"properties\": {\n        \"dtype\": \"number\",\n        \"std\": 0.0016165807537309664,\n        \"min\": 0.1289,\n        \"max\": 0.1317,\n        \"num_unique_values\": 2,\n        \"samples\": [\n          0.1289,\n          0.1317\n        ],\n        \"semantic_type\": \"\",\n        \"description\": \"\"\n      }\n    },\n    {\n      \"column\": \"MaxDrawdown\",\n      \"properties\": {\n        \"dtype\": \"number\",\n        \"std\": 0.0017320508075688787,\n        \"min\": -0.3435,\n        \"max\": -0.3405,\n        \"num_unique_values\": 2,\n        \"samples\": [\n          -0.3435,\n          -0.3405\n        ],\n        \"semantic_type\": \"\",\n        \"description\": \"\"\n      }\n    }\n  ]\n}"
            }
          },
          "metadata": {}
        }
      ]
    },
    {
      "cell_type": "markdown",
      "metadata": {
        "id": "7090e4e8"
      },
      "source": [
        "### Comentarios sobre los Portafolios\n",
        "\n",
        "*   **Sharpe (Libre):** Esta cartera busca maximizar el retorno ajustado por volatilidad sin ninguna restricción artificial sobre los pesos de los activos. A menudo, puede resultar en carteras muy concentradas en los activos con mejor desempeño histórico o menor correlación.\n",
        "\n",
        "*   **Sharpe (Restringido):** Al añadir restricciones, como un límite máximo de peso por activo (ej. 30% como en el ejemplo), se fuerza a la cartera a ser más diversificada, reduciendo la concentración. Esto puede llevar a un Sharpe Ratio ligeramente menor que la cartera libre, pero también a una menor volatilidad y Max Drawdown.\n",
        "\n",
        "*   **Sharpe (Sector-Constrained):** Las restricciones sectoriales buscan limitar la exposición a ciertos sectores o asegurar una asignación mínima a otros. Esto añade otra capa de diversificación y control de riesgo, reflejando consideraciones prácticas en la gestión de portafolios. Al igual que las restricciones por activo, pueden resultar en un Sharpe Ratio un poco menor que la cartera libre, pero con perfiles de riesgo potencialmente más manejables."
      ]
    },
    {
      "cell_type": "code",
      "source": [
        "# Función para calcular series de acciones a partir de rendimientos y ponderaciones históricas\n",
        "def equity_series_from_weights(weights, prices, initial_capital=10000):\n",
        "    daily_ret = prices.pct_change().dropna()\n",
        "    port_daily = daily_ret.dot(weights)\n",
        "    equity = (1 + port_daily).cumprod() * initial_capital\n",
        "    return equity\n",
        "\n",
        "weights_sharpe_arr = list(w_sharpe.values())\n",
        "weights_restricted_arr = list(w_restricted.values())\n",
        "weights_sector_arr = list(w_sector.values())\n",
        "\n",
        "eq_sharpe = equity_series_from_weights(weights_sharpe_arr, prices, initial_capital=10000)\n",
        "eq_restricted = equity_series_from_weights(weights_restricted_arr, prices, initial_capital=10000)\n",
        "eq_sector = equity_series_from_weights(weights_sector_arr, prices, initial_capital=10000)\n",
        "\n",
        "plt.figure(figsize=(12,6))\n",
        "plt.plot(eq_sharpe.index, eq_sharpe.values, label='Sharpe (Libre) Portfolio', linewidth=2)\n",
        "plt.plot(eq_restricted.index, eq_restricted.values, label='Sharpe (Restringido) Portfolio', linewidth=2)\n",
        "plt.plot(eq_sector.index, eq_sector.values, label='Sharpe (Sector-Constrained) Portfolio', linewidth=2)\n",
        "\n",
        "plt.title(\"Comparativa: Equity Curves (5 años) - 3 Portafolios Sharpe\")\n",
        "plt.ylabel(\"Valor de portafolio ($)\")\n",
        "plt.xlabel(\"Fecha\")\n",
        "plt.legend()\n",
        "plt.grid(alpha=0.3)\n",
        "plt.show()"
      ],
      "metadata": {
        "colab": {
          "base_uri": "https://localhost:8080/",
          "height": 564
        },
        "id": "bECciJ8NNIL5",
        "outputId": "b0b2126d-adc6-4114-bb41-7e8cc6d7fe1c"
      },
      "execution_count": 98,
      "outputs": [
        {
          "output_type": "display_data",
          "data": {
            "text/plain": [
              "<Figure size 1200x600 with 1 Axes>"
            ],
            "image/png": "[encoded data removed]"
          },
          "metadata": {}
        }
      ]
    },
    {
      "cell_type": "code",
      "source": [
        "# ================================================================================================"
      ],
      "metadata": {
        "id": "ZB0H7zyUD9kb"
      },
      "execution_count": 58,
      "outputs": []
    },
    {
      "cell_type": "markdown",
      "source": [
        "### 1️⃣2️⃣ Conclusión y extensiones.\n",
        "\n",
        "#### Resumen breve:\n",
        "\n",
        "#### •\tpypfopt + yfinance permiten pasar de precios a carteras optimizadas rápidamente.\n",
        "\n",
        "#### •\tOptimizar por Sortino o minimizar CVaR cambia el perfil del portafolio: protección contra pérdidas vs maximizar ratio clásico de Sharpe.\n",
        "\n",
        "#### •\tTraducir pesos a órdenes reales (DiscreteAllocation) acorta la brecha entre teoría y ejecución.\n",
        "\n",
        "#### •\tRestricciones del mundo real (límites por activo y sector) producen carteras más prácticas y reguladas, con trade-off entre eficiencia teórica y robustez operativa.\n",
        "\n",
        "<br/>\n",
        "\n",
        "#### Extensiones prácticas:\n",
        "\n",
        "#### •\tBacktesting con rebalanceo periódico de estas carteras.\n",
        "\n",
        "#### •\tIncluir comisiones y slippage en DiscreteAllocation y simulaciones.\n",
        "\n",
        "#### •\tEvaluar robustez mediante bootstrap y walk-forward.\n",
        "\n",
        "#### •\tAñadir factores (momentum, value) y optimizar por métricas alternativas (Sortino con target, Sortino penalizado por turnover)."
      ],
      "metadata": {
        "id": "vc46wwTxyQGR"
      }
    },
    {
      "cell_type": "markdown",
      "source": [
        "Descargo de responsabilidad:\n",
        "\n",
        "Este artículo es puramente informativo y no constituye asesoramiento financiero. No se recomienda tomar decisiones de inversión basadas únicamente en esta información. Se aconseja realizar un análisis propio y consultar a un profesional financiero antes de tomar decisiones de inversión. Las decisiones de inversión son responsabilidad exclusiva del lector.\n",
        "\n",
        "En todo momento se incita a hacer un análisis propio, y saber que tus decisiones son completamente tuyas y afectan tus inversiones y tu patrimonio.\n",
        "\n",
        "● No es una asesoría financiera.\n",
        "\n",
        "● No supone en ningún caso, esto sea recomendación de inversión, de compra o de venta de ningún activo/bien o subyacente.\n",
        "\n",
        "● El contenido del articulo es meramente informativo.\n",
        "\n",
        "● En todo momento se incita a hacer un análisis propio, y saber que tus decisiones son completamente tuyas y afectan tus inversiones y tu patrimonio."
      ],
      "metadata": {
        "id": "T0aXR1d-z5ik"
      }
    }
  ]
}